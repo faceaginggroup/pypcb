{
 "cells": [
  {
   "cell_type": "markdown",
   "metadata": {},
   "source": [
    "# IC Detector from the PCB image\n",
    "\n",
    "Require a text file with list of images and the largest dimension size of the smallest IC\n",
    "Other components can be detected in the same way \n",
    "List of components = [ic, resistor, capacitor]"
   ]
  },
  {
   "cell_type": "code",
   "execution_count": 1,
   "metadata": {},
   "outputs": [
    {
     "ename": "ImportError",
     "evalue": "No module named caffe",
     "output_type": "error",
     "traceback": [
      "\u001b[0;31m---------------------------------------------------------------------------\u001b[0m",
      "\u001b[0;31mImportError\u001b[0m                               Traceback (most recent call last)",
      "\u001b[0;32m<ipython-input-1-bacb8823075f>\u001b[0m in \u001b[0;36m<module>\u001b[0;34m()\u001b[0m\n\u001b[1;32m      4\u001b[0m \u001b[0;32mimport\u001b[0m \u001b[0mmatplotlib\u001b[0m\u001b[0;34m.\u001b[0m\u001b[0mpyplot\u001b[0m \u001b[0;32mas\u001b[0m \u001b[0mplt\u001b[0m\u001b[0;34m\u001b[0m\u001b[0m\n\u001b[1;32m      5\u001b[0m \u001b[0;32mimport\u001b[0m \u001b[0mcv2\u001b[0m\u001b[0;34m\u001b[0m\u001b[0m\n\u001b[0;32m----> 6\u001b[0;31m \u001b[0;32mimport\u001b[0m \u001b[0mcaffe\u001b[0m\u001b[0;34m\u001b[0m\u001b[0m\n\u001b[0m\u001b[1;32m      7\u001b[0m \u001b[0;34m\u001b[0m\u001b[0m\n\u001b[1;32m      8\u001b[0m \u001b[0;32mfrom\u001b[0m \u001b[0mdetector\u001b[0m \u001b[0;32mimport\u001b[0m \u001b[0mcomponentDetector\u001b[0m \u001b[0;32mas\u001b[0m \u001b[0mcd\u001b[0m\u001b[0;34m\u001b[0m\u001b[0m\n",
      "\u001b[0;31mImportError\u001b[0m: No module named caffe"
     ]
    }
   ],
   "source": [
    "%matplotlib inline\n",
    "import sys\n",
    "import os\n",
    "import matplotlib.pyplot as plt\n",
    "import cv2\n",
    "import caffe\n",
    "\n",
    "from detector import componentDetector as cd\n",
    "from detector import helperModules\n",
    "from detector.helperModules import *"
   ]
  },
  {
   "cell_type": "code",
   "execution_count": null,
   "metadata": {},
   "outputs": [],
   "source": [
    "# load the image list file - format is full_image_path \\t min_ic_size\n",
    "\n",
    "imglist = 'iclist.txt'\n",
    "\n",
    "with open(imglist, 'r') as f:\n",
    "    lol = [x.strip().split('\\t') for x in f]\n",
    "\n",
    "print lol\n",
    "lol = [['images/A047F180.jpg', '70']]"
   ]
  },
  {
   "cell_type": "code",
   "execution_count": null,
   "metadata": {},
   "outputs": [],
   "source": [
    "# Initialize the detector\n",
    "icDetector = cd.componentDetector(\"ic\", \"gpu\")\n",
    "\n",
    "for image, minsize in lol:\n",
    "    minsize = int(minsize)\n",
    "    \n",
    "    # detect the bounding boxes\n",
    "    # boundingBoxes - [x,y,w,h,confidence_score]\n",
    "    boundingBoxes = icDetector.detectfast(image, minsize)\n",
    "    \n",
    "    # read the image\n",
    "    im = caffe.io.load_image(image)\n",
    "    \n",
    "    # draw bounding boxes\n",
    "    helperModules.drawBoundingBoxes(im, boundingBoxes, \"Detected Image\")\n",
    "    "
   ]
  },
  {
   "cell_type": "code",
   "execution_count": null,
   "metadata": {
    "collapsed": true
   },
   "outputs": [],
   "source": []
  }
 ],
 "metadata": {
  "kernelspec": {
   "display_name": "Python 2",
   "language": "python",
   "name": "python2"
  },
  "language_info": {
   "codemirror_mode": {
    "name": "ipython",
    "version": 2
   },
   "file_extension": ".py",
   "mimetype": "text/x-python",
   "name": "python",
   "nbconvert_exporter": "python",
   "pygments_lexer": "ipython2",
   "version": "2.7.13"
  }
 },
 "nbformat": 4,
 "nbformat_minor": 2
}
